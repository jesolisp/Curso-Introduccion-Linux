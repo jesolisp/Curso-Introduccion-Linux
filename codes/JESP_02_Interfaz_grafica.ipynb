{
 "cells": [
  {
   "cell_type": "markdown",
   "id": "e515a344",
   "metadata": {},
   "source": [
    "# Uso de la Interfaz gráfica\n",
    "\n",
    "---\n",
    "\n",
    "<ul>\n",
    "    <li><strong>Autor:</strong> Jesús Emmanuel Solís Pérez </li>\n",
    "    <li><strong>Contacto:</strong> <a href=\"mailto:jsolisp@unam.mx\">jsolisp@unam.mx</a>\n",
    "</ul>\n",
    "\n",
    "---\n",
    "\n",
    "## Códecs multimedia\n",
    "\n",
    "1. Menú de inicio $\\rightarrow$ Sonido y video $\\rightarrow$ Instalar códecs multimedia.\n",
    "\n",
    "![mint-meta-codecs](../figures/mint-meta-codecs.png)\n",
    "\n",
    "2. Haga clic en Instalar.\n",
    "3. Ingrese su contraseña y espere a que los códecs se instalen en su computadora.\n",
    "\n",
    "## Ayuda de idioma\n",
    "El soporte de idiomas incluye traducciones, paquetes relacionados con el corrector ortográfico, sinónimos, guiones y diccionarios para mejorar la experiencia en aplicaciones de software.\n",
    "\n",
    "1. Inicie Menú $\\rightarrow$ Preferencias $\\rightarrow$ Idiomas.\n",
    "\n",
    "![mintlocale](../figures/mintlocale.png)\n",
    "\n",
    "2. Haga clic en `Instalar/Eliminar idioma`.\n",
    "\n",
    "![mintlocale-2](../figures/mintlocale-2.png)\n",
    "\n",
    "3. Si junto a su configuración regional, ve una etiqueta que dice que `faltan algunos paquetes de idioma`, seleccione su configuración regional y haga clic en `Instalar paquetes de idioma`.\n",
    "\n",
    "## Capturas de pantalla\n",
    "\n",
    "![c4](../figures/c4.jpg)\n",
    "![c5](../figures/c5.jpg)\n",
    "![c6](../figures/c6.jpg)\n",
    "![c7](../figures/c7.jpg)\n",
    "![c8](../figures/c8.jpg)\n",
    "![c9](../figures/c9.jpg)\n",
    "![c10](../figures/c10.jpg)\n",
    "![c11](../figures/c11.jpg)\n",
    "![c12](../figures/c12.jpg)\n",
    "![c13](../figures/c13.jpg)\n",
    "![c14](../figures/c14.jpg)\n",
    "![c15](../figures/c15.jpg)"
   ]
  }
 ],
 "metadata": {
  "hide_input": false,
  "kernelspec": {
   "display_name": "Python 3 (ipykernel)",
   "language": "python",
   "name": "python3"
  },
  "language_info": {
   "codemirror_mode": {
    "name": "ipython",
    "version": 3
   },
   "file_extension": ".py",
   "mimetype": "text/x-python",
   "name": "python",
   "nbconvert_exporter": "python",
   "pygments_lexer": "ipython3",
   "version": "3.9.12"
  },
  "toc": {
   "base_numbering": 1,
   "nav_menu": {},
   "number_sections": true,
   "sideBar": true,
   "skip_h1_title": false,
   "title_cell": "Table of Contents",
   "title_sidebar": "Contents",
   "toc_cell": false,
   "toc_position": {},
   "toc_section_display": true,
   "toc_window_display": false
  }
 },
 "nbformat": 4,
 "nbformat_minor": 5
}
