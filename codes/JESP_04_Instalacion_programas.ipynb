{
 "cells": [
  {
   "cell_type": "markdown",
   "id": "5c6d3d70",
   "metadata": {},
   "source": [
    "# Instalación y desinstalación de programas\n",
    "\n",
    "---\n",
    "\n",
    "<ul>\n",
    "    <li><strong>Autor:</strong> Jesús Emmanuel Solís Pérez </li>\n",
    "    <li><strong>Contacto:</strong> <a href=\"mailto:jsolisp@unam.mx\">jsolisp@unam.mx</a>\n",
    "</ul>\n",
    "\n",
    "---\n",
    "\n",
    "## Gestor gráfico de paquetes\n",
    "\n",
    "![c9](../figures/c9.jpg)\n",
    "\n",
    "## Paquetes DEB: Instalación manual\n",
    "\n",
    "~~~\n",
    " dpkg -i pkg.deb – install a DEB package (Debian / Ubuntu / Linux Mint)\n",
    "~~~\n",
    "\n",
    "## Paquetes DEB: Usando APT\n",
    "\n",
    "~~~\n",
    " sudo apt get install nombre_paquete\n",
    "~~~\n",
    "\n",
    "## Instalación desde la fuente\n",
    "~~~\n",
    " ./configure\n",
    " make\n",
    " make install\n",
    "~~~"
   ]
  }
 ],
 "metadata": {
  "hide_input": false,
  "kernelspec": {
   "display_name": "Python 3 (ipykernel)",
   "language": "python",
   "name": "python3"
  },
  "language_info": {
   "codemirror_mode": {
    "name": "ipython",
    "version": 3
   },
   "file_extension": ".py",
   "mimetype": "text/x-python",
   "name": "python",
   "nbconvert_exporter": "python",
   "pygments_lexer": "ipython3",
   "version": "3.9.12"
  },
  "toc": {
   "base_numbering": 1,
   "nav_menu": {},
   "number_sections": true,
   "sideBar": true,
   "skip_h1_title": false,
   "title_cell": "Table of Contents",
   "title_sidebar": "Contents",
   "toc_cell": false,
   "toc_position": {},
   "toc_section_display": true,
   "toc_window_display": false
  }
 },
 "nbformat": 4,
 "nbformat_minor": 5
}
